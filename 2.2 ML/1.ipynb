{
 "cells": [
  {
   "cell_type": "code",
   "execution_count": 1,
   "metadata": {},
   "outputs": [
    {
     "name": "stdout",
     "output_type": "stream",
     "text": [
      "Predicted value: [[11.64331985]]\n"
     ]
    }
   ],
   "source": [
    "import numpy as np\n",
    "from sklearn.linear_model import LinearRegression\n",
    "\n",
    "#Generating some random data for demonstration purposes\n",
    "np.random.seed(0)\n",
    "X = 2 * np.random.rand(100, 1)\n",
    "y = 4 + 3 * X + np.random.randn(100, 1)\n",
    "\n",
    "#Creating a linear regression model\n",
    "model = LinearRegression()\n",
    "model.fit(X, y)\n",
    "\n",
    "\n",
    "#Making a prediction using the model\n",
    "X_new = np.array([[2.5]])\n",
    "y_pred = model.predict(X_new)\n",
    "\n",
    "print(\"Predicted value:\", y_pred)"
   ]
  },
  {
   "cell_type": "code",
   "execution_count": 5,
   "metadata": {},
   "outputs": [
    {
     "name": "stdout",
     "output_type": "stream",
     "text": [
      "Predicted value: 100.47902869757175\n"
     ]
    }
   ],
   "source": [
    "import numpy as np\n",
    "from sklearn.linear_model import LinearRegression\n",
    "# Define the data\n",
    "x = np.array([5, 7, 8, 7, 2, 17, 2, 9, 4, 11, 12, 9, 6]).reshape(-1, 1)\n",
    "#The purpose of reshape(-1, 1) is to convert a 1D array into a 2D array with one column,\n",
    "# which is the required input format for many machine learning algorithms in Scikit-learn.\n",
    "y = np.array([99, 86, 87, 88, 111, 86, 103, 87, 94, 78, 77, 85, 86])\n",
    "\n",
    "# Create and fit the model\n",
    "model = LinearRegression()\n",
    "#fit is used for training\n",
    "model.fit(x, y)\n",
    "\n",
    "# Make a prediction\n",
    "X_new = np.array([[16.5]])  # Input as a 2D array\n",
    "y_pred = model.predict(X_new)\n",
    "\n",
    "print(\"Predicted value:\", y_pred[0])\n"
   ]
  },
  {
   "cell_type": "code",
   "execution_count": 8,
   "metadata": {},
   "outputs": [
    {
     "name": "stdout",
     "output_type": "stream",
     "text": [
      "apple    10\n",
      "orang    20\n",
      "grap     35\n",
      "bana     13\n",
      "abc      68\n",
      "dtype: int64\n"
     ]
    },
    {
     "data": {
      "text/plain": [
       "array([10, 20, 35, 13, 68])"
      ]
     },
     "execution_count": 8,
     "metadata": {},
     "output_type": "execute_result"
    }
   ],
   "source": [
    "import pandas as pd\n",
    "count=[10,20,35,13,68]\n",
    "fruits=[\"apple\",\"orang\",\"grap\",\"bana\",\"abc\"]\n",
    "mydata=pd.Series(count,fruits)\n",
    "print(mydata)\n",
    "#mydata.index\n",
    "mydata.values"
   ]
  }
 ],
 "metadata": {
  "kernelspec": {
   "display_name": "Python 3",
   "language": "python",
   "name": "python3"
  },
  "language_info": {
   "codemirror_mode": {
    "name": "ipython",
    "version": 3
   },
   "file_extension": ".py",
   "mimetype": "text/x-python",
   "name": "python",
   "nbconvert_exporter": "python",
   "pygments_lexer": "ipython3",
   "version": "3.12.8"
  }
 },
 "nbformat": 4,
 "nbformat_minor": 2
}
